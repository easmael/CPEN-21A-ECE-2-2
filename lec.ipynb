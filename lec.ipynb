{
  "nbformat": 4,
  "nbformat_minor": 0,
  "metadata": {
    "colab": {
      "name": "lec.ipynb",
      "provenance": [],
      "collapsed_sections": [],
      "toc_visible": true,
      "authorship_tag": "ABX9TyOqgbRboolY9EwfeZpUVIN0",
      "include_colab_link": true
    },
    "kernelspec": {
      "name": "python3",
      "display_name": "Python 3"
    },
    "language_info": {
      "name": "python"
    }
  },
  "cells": [
    {
      "cell_type": "markdown",
      "metadata": {
        "id": "view-in-github",
        "colab_type": "text"
      },
      "source": [
        "<a href=\"https://colab.research.google.com/github/easmael/CPEN-21A-ECE-2-2/blob/main/lec.ipynb\" target=\"_parent\"><img src=\"https://colab.research.google.com/assets/colab-badge.svg\" alt=\"Open In Colab\"/></a>"
      ]
    },
    {
      "cell_type": "markdown",
      "metadata": {
        "id": "Z09Pj5Uk6Fbp"
      },
      "source": [
        "BOOLEAN OPERATORS"
      ]
    },
    {
      "cell_type": "code",
      "metadata": {
        "id": "Erkem54p6FlB"
      },
      "source": [
        "a=1\n",
        "b=2\n",
        "print(a>b)\n",
        "print(a<b)\n",
        "print(a==a)\n",
        "print(a!=b)"
      ],
      "execution_count": null,
      "outputs": []
    },
    {
      "cell_type": "markdown",
      "metadata": {
        "id": "wSXo_zdt6Fsi"
      },
      "source": [
        "bool()function"
      ]
    },
    {
      "cell_type": "code",
      "metadata": {
        "id": "A3z30-1T6F1C"
      },
      "source": [
        "print(bool(15))\n",
        "print(bool(True))\n",
        "print(bool(1))\n",
        "\n",
        "print(bool(False))\n",
        "print(bool(0))\n",
        "print(bool(None))\n",
        "print(bool([]))"
      ],
      "execution_count": null,
      "outputs": []
    },
    {
      "cell_type": "markdown",
      "metadata": {
        "id": "ANDwNSSU6F8Y"
      },
      "source": [
        "Functions Return a Boolean"
      ]
    },
    {
      "cell_type": "code",
      "metadata": {
        "id": "dvyI_Dc76GDx"
      },
      "source": [
        "def myFunction():return True\n",
        "print(myFunction())"
      ],
      "execution_count": null,
      "outputs": []
    },
    {
      "cell_type": "markdown",
      "metadata": {
        "id": "1N5pdSvs6GKB"
      },
      "source": [
        ""
      ]
    },
    {
      "cell_type": "code",
      "metadata": {
        "id": "6Fl3h6Ss6GQ3"
      },
      "source": [
        "def myFunction():return True\n",
        "if myFunction():\n",
        "  print(\"True\")\n",
        "else:\n",
        "  print(\"False\")"
      ],
      "execution_count": null,
      "outputs": []
    },
    {
      "cell_type": "markdown",
      "metadata": {
        "id": "nD_I6wK36GUj"
      },
      "source": [
        "Relation Operator"
      ]
    },
    {
      "cell_type": "code",
      "metadata": {
        "id": "vQTHvU8P6GaG"
      },
      "source": [
        "print(10>9)\n",
        "print(10<9)\n",
        "print(10==9)"
      ],
      "execution_count": null,
      "outputs": []
    },
    {
      "cell_type": "markdown",
      "metadata": {
        "id": "jxPTo0my6Ge8"
      },
      "source": [
        "Arithmetic Operator"
      ]
    },
    {
      "cell_type": "code",
      "metadata": {
        "id": "Z4GzLS416Gkh"
      },
      "source": [
        "print(10+5)\n",
        "print(10-5)\n",
        "print(10*5)\n",
        "print(10/5)\n",
        "print(10%5) #modular division that shows the remainder\n",
        "print(10//3)  #floor division 3.33 = 3 the whole number\n",
        "print(10**2)  #power (10 raise to 2)"
      ],
      "execution_count": null,
      "outputs": []
    },
    {
      "cell_type": "markdown",
      "metadata": {
        "id": "_9zYcktc6GqL"
      },
      "source": [
        "Bitwise Operators"
      ]
    },
    {
      "cell_type": "code",
      "metadata": {
        "id": "USxeoGcR6Gvl"
      },
      "source": [
        "a=60  #0011 1100\n",
        "b=13  #0000 1101\n",
        "\n",
        "print(a & b)\n",
        "print(a | b) #or\n",
        "print(a^b)  #xor\n",
        "print(a<<1) #0011 1100 = 0111 1000\n",
        "print(a>>1)"
      ],
      "execution_count": null,
      "outputs": []
    },
    {
      "cell_type": "markdown",
      "metadata": {
        "id": "WW_awXNx6G1O"
      },
      "source": [
        "Asssignment Operator"
      ]
    },
    {
      "cell_type": "code",
      "metadata": {
        "id": "QA-tB_E-6G6C"
      },
      "source": [
        "a+=3  #same as a=a+3, a=60+3=63\n",
        "print(a)"
      ],
      "execution_count": null,
      "outputs": []
    },
    {
      "cell_type": "markdown",
      "metadata": {
        "id": "y_So6bz_6VDj"
      },
      "source": [
        "Logical Operator"
      ]
    },
    {
      "cell_type": "code",
      "metadata": {
        "id": "eMhwXFqn6VKf"
      },
      "source": [
        "a=True\n",
        "b=False\n",
        "\n",
        "print(a and b)\n",
        "print(a or b)\n",
        "print(not(a or b))"
      ],
      "execution_count": null,
      "outputs": []
    },
    {
      "cell_type": "markdown",
      "metadata": {
        "id": "N2tV--gq6VQ9"
      },
      "source": [
        ""
      ]
    },
    {
      "cell_type": "code",
      "metadata": {
        "id": "qMnmmT-D6VXb"
      },
      "source": [
        "a=60\n",
        "b=13\n",
        "\n",
        "print(a>b and b>a)\n",
        "print(a==a or b==b)\n",
        "print(not(a==a or b==b))"
      ],
      "execution_count": null,
      "outputs": []
    },
    {
      "cell_type": "markdown",
      "metadata": {
        "id": "urHUjN1k6Vcy"
      },
      "source": [
        "Identity Operators"
      ]
    },
    {
      "cell_type": "code",
      "metadata": {
        "id": "GM-HB_Gy6Viy"
      },
      "source": [
        "print(a is b)\n",
        "print(a is not b)"
      ],
      "execution_count": null,
      "outputs": []
    }
  ]
}