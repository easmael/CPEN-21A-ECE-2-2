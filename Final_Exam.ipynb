{
  "nbformat": 4,
  "nbformat_minor": 0,
  "metadata": {
    "colab": {
      "name": "Final Exam.ipynb",
      "provenance": [],
      "collapsed_sections": [],
      "authorship_tag": "ABX9TyNQ4xWoieCA4NdzgPpgAGQw",
      "include_colab_link": true
    },
    "kernelspec": {
      "name": "python3",
      "display_name": "Python 3"
    },
    "language_info": {
      "name": "python"
    }
  },
  "cells": [
    {
      "cell_type": "markdown",
      "metadata": {
        "id": "view-in-github",
        "colab_type": "text"
      },
      "source": [
        "<a href=\"https://colab.research.google.com/github/easmael/CPEN-21A-ECE-2-3/blob/main/Final_Exam.ipynb\" target=\"_parent\"><img src=\"https://colab.research.google.com/assets/colab-badge.svg\" alt=\"Open In Colab\"/></a>"
      ]
    },
    {
      "cell_type": "markdown",
      "source": [
        "PROBLEM SET 1"
      ],
      "metadata": {
        "id": "g8RU6Kw9-Q5V"
      }
    },
    {
      "cell_type": "code",
      "execution_count": null,
      "metadata": {
        "colab": {
          "base_uri": "https://localhost:8080/"
        },
        "id": "3Biyy9EZ-QYN",
        "outputId": "6e5ee301-ab87-4351-b4aa-390437d070d8"
      },
      "outputs": [
        {
          "output_type": "stream",
          "name": "stdout",
          "text": [
            "Enter a number less than 5=5\n",
            "Enter a number less than 5=4\n",
            "Enter a number less than 5=3\n",
            "Enter a number less than 5=2\n",
            "Enter a number less than 5=1\n",
            "Enter a number less than 5=0\n",
            "Enter a number less than 5=5\n",
            "Enter a number less than 5=3\n",
            "Enter a number less than 5=1\n",
            "Enter a number less than 5=2\n",
            "The sum of the 10 number is 26\n"
          ]
        }
      ],
      "source": [
        "a=0\n",
        "for i in range(10):\n",
        "  b=int(input(\"Enter a number less than 5=\"))\n",
        "  if b>5:\n",
        "    print(\"the number is greater than 5!\")\n",
        "    break\n",
        "  else:\n",
        "    a=a+b\n",
        "print(\"The sum of the 10 number is\",a)\n",
        "\n"
      ]
    },
    {
      "cell_type": "markdown",
      "source": [
        "PROBLEM SET 2"
      ],
      "metadata": {
        "id": "WJv2syzh-WuD"
      }
    },
    {
      "cell_type": "code",
      "source": [
        "iter=5\n",
        "sum=0\n",
        "while iter!=0:\n",
        "  num=int(input(\"Input numbers=\"))\n",
        "  if iter==5:\n",
        "    sum=sum+num\n",
        "    iter-=1\n",
        "\n",
        "  elif iter==1:\n",
        "    sum=sum+num\n",
        "    iter-=1\n",
        "    print(\"The sum of the first and last number is\",sum)\n",
        "  else:\n",
        "    iter-=1\n",
        "  "
      ],
      "metadata": {
        "colab": {
          "base_uri": "https://localhost:8080/"
        },
        "id": "sBmfVDdq-W2c",
        "outputId": "decfb131-ca10-4f58-dc68-e6fa61ccdbb0"
      },
      "execution_count": null,
      "outputs": [
        {
          "output_type": "stream",
          "name": "stdout",
          "text": [
            "Input numbers=3\n",
            "Input numbers=5\n",
            "Input numbers=7\n",
            "Input numbers=1\n",
            "Input numbers=99\n",
            "The sum of the first and last number is 102\n"
          ]
        }
      ]
    },
    {
      "cell_type": "markdown",
      "source": [
        "PROBLEM SET 3"
      ],
      "metadata": {
        "id": "E5evUKeM-W8b"
      }
    },
    {
      "cell_type": "code",
      "source": [
        "grade=int(input(\"Grade=\"))\n",
        "if grade>100 or grade<0:\n",
        "  print(\"Invalid input grade!\")\n",
        "else:\n",
        "  if 90 <= grade <= 100:\n",
        "          print(\"your grade is A\")\n",
        "  elif 80 <= grade <= 89:\n",
        "          print(\"your grade is B\")\n",
        "  elif 70 <= grade <= 79:\n",
        "          print(\"your grade is C\")\n",
        "  elif 60 <= grade <= 69:\n",
        "          print(\"your grade is D\")\n",
        "  else:\n",
        "      print(\"your grade is F\")"
      ],
      "metadata": {
        "colab": {
          "base_uri": "https://localhost:8080/"
        },
        "id": "t2bQ087q-XC3",
        "outputId": "92aa0049-6f2d-443b-8550-0ddf1a78d684"
      },
      "execution_count": 1,
      "outputs": [
        {
          "output_type": "stream",
          "name": "stdout",
          "text": [
            "Grade=69\n",
            "your grade is D\n"
          ]
        }
      ]
    }
  ]
}