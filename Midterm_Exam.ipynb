{
  "nbformat": 4,
  "nbformat_minor": 0,
  "metadata": {
    "colab": {
      "name": "Midterm Exam.ipynb",
      "provenance": [],
      "collapsed_sections": [],
      "authorship_tag": "ABX9TyP3K34QgA3jnXkDgDMKf8Jg",
      "include_colab_link": true
    },
    "kernelspec": {
      "name": "python3",
      "display_name": "Python 3"
    },
    "language_info": {
      "name": "python"
    }
  },
  "cells": [
    {
      "cell_type": "markdown",
      "metadata": {
        "id": "view-in-github",
        "colab_type": "text"
      },
      "source": [
        "<a href=\"https://colab.research.google.com/github/easmael/CPEN-21A-ECE-2-2/blob/main/Midterm_Exam.ipynb\" target=\"_parent\"><img src=\"https://colab.research.google.com/assets/colab-badge.svg\" alt=\"Open In Colab\"/></a>"
      ]
    },
    {
      "cell_type": "markdown",
      "metadata": {
        "id": "LqFwKcKdtjzi"
      },
      "source": [
        "Problem Set 1"
      ]
    },
    {
      "cell_type": "code",
      "metadata": {
        "colab": {
          "base_uri": "https://localhost:8080/"
        },
        "id": "OUaUXSXqsn4g",
        "outputId": "5799f44e-5d7b-4c58-96e6-8adc5aaba610"
      },
      "source": [
        "print(\"Name: Easmael M. Tilao\")\n",
        "print(\"Student Number: 201816847\")\n",
        "print(\"Age: 21\")\n",
        "print(\"Birthday: May 15 2000\")\n",
        "print(\"Address: J1-1-16 Tropical Village, San francisco,General Trias, Cavite\")\n",
        "print(\"Course: BSEE\")\n",
        "print(\"Last Sem GWA: 2.31\")"
      ],
      "execution_count": 43,
      "outputs": [
        {
          "output_type": "stream",
          "name": "stdout",
          "text": [
            "Name: Easmael M. Tilao\n",
            "Student Number: 201816847\n",
            "Age: 21\n",
            "Birthday: May 15 2000\n",
            "Address: J1-1-16 Tropical Village, San francisco,General Trias, Cavite\n",
            "Course: BSEE\n",
            "Last Sem GWA: 2.31\n"
          ]
        }
      ]
    },
    {
      "cell_type": "markdown",
      "metadata": {
        "id": "QEhCuKohtryl"
      },
      "source": [
        "Problem Set 2"
      ]
    },
    {
      "cell_type": "code",
      "metadata": {
        "colab": {
          "base_uri": "https://localhost:8080/"
        },
        "id": "np5W9tJytr_f",
        "outputId": "68069a4a-41a5-4cb6-8b30-58bbe787439a"
      },
      "source": [
        "n=4\n",
        "answ=\"Y\"\n",
        "a=(2<n) and (n<6)\n",
        "print(a)\n",
        "b=(2<n) or (n==6)\n",
        "print(b)\n",
        "c=not(2<n) or (n==6)\n",
        "print(c)\n",
        "d=not(n<6)\n",
        "print(d)\n",
        "answ=\"Y\"\n",
        "e=(answ==Y) or (answ==y)\n",
        "print(e)\n",
        "f=(answ==Y) and (answ==y)\n",
        "print(f)\n",
        "g=not(answ==y)\n",
        "print(g)\n",
        "h=((2<n)and(n==5+1)) or (answ==\"No\")\n",
        "print(h)\n",
        "j=((n==2)and(n==7)) or (answ==Y)\n",
        "print(j)\n",
        "k=(n==2) and ((n==7) or(answ==Y))\n",
        "print(k)\n",
        "\n",
        "\n"
      ],
      "execution_count": 42,
      "outputs": [
        {
          "output_type": "stream",
          "name": "stdout",
          "text": [
            "True\n",
            "True\n",
            "False\n",
            "False\n",
            "False\n",
            "False\n",
            "True\n",
            "False\n",
            "False\n",
            "False\n"
          ]
        }
      ]
    },
    {
      "cell_type": "markdown",
      "metadata": {
        "id": "3QRFgp8ktsIS"
      },
      "source": [
        "Problem set 3"
      ]
    },
    {
      "cell_type": "code",
      "metadata": {
        "colab": {
          "base_uri": "https://localhost:8080/"
        },
        "id": "QTFK22kktsQv",
        "outputId": "8b8b7e02-55b4-4938-ad7a-9d26a05207e1"
      },
      "source": [
        "x,y,w,z=2,-3,7,-10\n",
        "a=x/y\n",
        "print(a)\n",
        "b=w/y/x\n",
        "print(b)\n",
        "c=z/y%x\n",
        "print(c)\n",
        "d=x%-y*w\n",
        "print(d)\n",
        "e=x%y\n",
        "print(e)\n",
        "f=z%w-y/x*5+5\n",
        "print(f)\n",
        "g=9-x%(2+y)\n",
        "print(g)\n",
        "h=z//w\n",
        "print(h)\n",
        "i=(2+y)**2\n",
        "print(i)\n",
        "j=w/x*2\n",
        "print(j)"
      ],
      "execution_count": 4,
      "outputs": [
        {
          "output_type": "stream",
          "name": "stdout",
          "text": [
            "-0.6666666666666666\n",
            "-1.1666666666666667\n",
            "1.3333333333333335\n",
            "14\n",
            "-1\n",
            "16.5\n",
            "9\n",
            "-2\n",
            "1\n",
            "7.0\n"
          ]
        }
      ]
    }
  ]
}