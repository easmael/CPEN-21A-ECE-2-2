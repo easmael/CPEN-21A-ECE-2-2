{
  "nbformat": 4,
  "nbformat_minor": 0,
  "metadata": {
    "colab": {
      "name": "Conditional Statement in Python.ipynb",
      "provenance": [],
      "collapsed_sections": [],
      "authorship_tag": "ABX9TyNT0T4mqCjqP3ImBnTEhHVp",
      "include_colab_link": true
    },
    "kernelspec": {
      "name": "python3",
      "display_name": "Python 3"
    },
    "language_info": {
      "name": "python"
    }
  },
  "cells": [
    {
      "cell_type": "markdown",
      "metadata": {
        "id": "view-in-github",
        "colab_type": "text"
      },
      "source": [
        "<a href=\"https://colab.research.google.com/github/easmael/CPEN-21A-ECE-2-3/blob/main/Conditional_Statement_in_Python.ipynb\" target=\"_parent\"><img src=\"https://colab.research.google.com/assets/colab-badge.svg\" alt=\"Open In Colab\"/></a>"
      ]
    },
    {
      "cell_type": "markdown",
      "metadata": {
        "id": "daWarWMDBcZL"
      },
      "source": [
        "If statement"
      ]
    },
    {
      "cell_type": "code",
      "metadata": {
        "colab": {
          "base_uri": "https://localhost:8080/"
        },
        "id": "kWvTCzDBy4Ae",
        "outputId": "677fe2a3-a5ae-4e8f-de4a-3a9413d83d58"
      },
      "source": [
        "a=30\n",
        "b=15\n",
        "if a>b:\n",
        "  print(\"a is less than b\")\n",
        "\n"
      ],
      "execution_count": 26,
      "outputs": [
        {
          "output_type": "stream",
          "name": "stdout",
          "text": [
            "a is less than b\n"
          ]
        }
      ]
    },
    {
      "cell_type": "markdown",
      "metadata": {
        "id": "-ljpzt9NBfoW"
      },
      "source": [
        "elif statement"
      ]
    },
    {
      "cell_type": "code",
      "metadata": {
        "colab": {
          "base_uri": "https://localhost:8080/"
        },
        "id": "htIc2tr-0YLr",
        "outputId": "ec303c28-1e72-4c7a-daad-e31618662b6d"
      },
      "source": [
        "a=30\n",
        "b=15\n",
        "if a<b:\n",
        "  print(\"a is less than b\")\n",
        "elif a>b:\n",
        "  print(\"a is greater than b\")"
      ],
      "execution_count": 27,
      "outputs": [
        {
          "output_type": "stream",
          "name": "stdout",
          "text": [
            "a is greater than b\n"
          ]
        }
      ]
    },
    {
      "cell_type": "markdown",
      "metadata": {
        "id": "4WI3G3r4Bjcx"
      },
      "source": [
        "else statement"
      ]
    },
    {
      "cell_type": "code",
      "metadata": {
        "colab": {
          "base_uri": "https://localhost:8080/"
        },
        "id": "0zfGpCJg0Zo6",
        "outputId": "32a7bdee-f0bb-43d3-877b-3ce42836361b"
      },
      "source": [
        "a=30\n",
        "b=15\n",
        "if a<b:\n",
        "  print(\"a is less than b\")\n",
        "elif a>b:\n",
        "  print(\"a is greater than b\")\n",
        "else:\n",
        "  print(\"a is equal to b\")"
      ],
      "execution_count": 28,
      "outputs": [
        {
          "output_type": "stream",
          "name": "stdout",
          "text": [
            "a is greater than b\n"
          ]
        }
      ]
    },
    {
      "cell_type": "markdown",
      "metadata": {
        "id": "Op3RP5WYBx01"
      },
      "source": [
        "Short Hand If Statement"
      ]
    },
    {
      "cell_type": "code",
      "metadata": {
        "colab": {
          "base_uri": "https://localhost:8080/"
        },
        "id": "k6czGq1N1E0V",
        "outputId": "690dcdad-a9fb-4af8-8784-8c0ba2a8eb17"
      },
      "source": [
        "a=75\n",
        "b=32\n",
        "if a>b: print(\"a is greater than b\")\n"
      ],
      "execution_count": 29,
      "outputs": [
        {
          "output_type": "stream",
          "name": "stdout",
          "text": [
            "a is greater than b\n"
          ]
        }
      ]
    },
    {
      "cell_type": "markdown",
      "metadata": {
        "id": "U7TutKpcBy_b"
      },
      "source": [
        "Short Hand If..Else Statement"
      ]
    },
    {
      "cell_type": "code",
      "metadata": {
        "colab": {
          "base_uri": "https://localhost:8080/"
        },
        "id": "rv1lL9gr1zxx",
        "outputId": "a17b81f2-0ee5-4f01-fe37-7d17f15df84a"
      },
      "source": [
        " print(\"a is less than b\") if a>b else print(\"a is less than b\")"
      ],
      "execution_count": 30,
      "outputs": [
        {
          "output_type": "stream",
          "name": "stdout",
          "text": [
            "a is less than b\n"
          ]
        }
      ]
    },
    {
      "cell_type": "markdown",
      "metadata": {
        "id": "LO8yHPqXB4gF"
      },
      "source": [
        "And-both conditions are true &"
      ]
    },
    {
      "cell_type": "code",
      "metadata": {
        "colab": {
          "base_uri": "https://localhost:8080/"
        },
        "id": "UVzNGw622gw1",
        "outputId": "2d71a24b-8769-4887-f970-78379298613c"
      },
      "source": [
        "a=200\n",
        "b=33\n",
        "c=500\n",
        "if a>b and c>a:\n",
        "  print(\"Both condition are ture\")\n",
        "else:\n",
        "  print(\"the condition is true or false\")"
      ],
      "execution_count": 31,
      "outputs": [
        {
          "output_type": "stream",
          "name": "stdout",
          "text": [
            "Both condition are ture\n"
          ]
        }
      ]
    },
    {
      "cell_type": "markdown",
      "metadata": {
        "id": "dxsE5pYAB5kd"
      },
      "source": [
        "Or-at least one of the conditions is true"
      ]
    },
    {
      "cell_type": "code",
      "metadata": {
        "colab": {
          "base_uri": "https://localhost:8080/"
        },
        "id": "_FuoFL5P3L0d",
        "outputId": "ea78780e-1115-4049-a162-101eba0ef91a"
      },
      "source": [
        "a=200\n",
        "b=33\n",
        "c=500\n",
        "if a<b or c>a:\n",
        "  print(\"true\")\n",
        "else:\n",
        "  print(\"false\")"
      ],
      "execution_count": 32,
      "outputs": [
        {
          "output_type": "stream",
          "name": "stdout",
          "text": [
            "true\n"
          ]
        }
      ]
    },
    {
      "cell_type": "markdown",
      "metadata": {
        "id": "q1CvNTYOBXf0"
      },
      "source": [
        "Nested IF"
      ]
    },
    {
      "cell_type": "code",
      "metadata": {
        "colab": {
          "base_uri": "https://localhost:8080/"
        },
        "id": "AXvDyN_t32_p",
        "outputId": "6af9c276-0f10-42d3-e7f3-1892a4964e14"
      },
      "source": [
        "x=41\n",
        "if x>10:\n",
        "  print(\"above 10\")\n",
        "  if x>20:\n",
        "    print(\"above 20\")\n",
        "    if x>30:\n",
        "      print(\"above 30\")\n",
        "    else:\n",
        "      print(\"not above 30\")\n",
        "  else:\n",
        "    print(\"not above 30\")\n",
        "else:\n",
        "  print(\"below 10\")\n",
        "  "
      ],
      "execution_count": 33,
      "outputs": [
        {
          "output_type": "stream",
          "name": "stdout",
          "text": [
            "above 10\n",
            "above 20\n",
            "above 30\n"
          ]
        }
      ]
    },
    {
      "cell_type": "markdown",
      "metadata": {
        "id": "P-S4yErH6W4Q"
      },
      "source": [
        "Esample 1"
      ]
    },
    {
      "cell_type": "code",
      "metadata": {
        "colab": {
          "base_uri": "https://localhost:8080/"
        },
        "id": "tEmLlpVd5sgB",
        "outputId": "dc18af27-d3e1-4f08-d996-370cc88c14d3"
      },
      "source": [
        "age=int(input(\"input age=\"))\n",
        "if age<=17:\n",
        "  print(\"not qualified\")\n",
        "else:\n",
        "  print(\"qualified\")"
      ],
      "execution_count": 11,
      "outputs": [
        {
          "output_type": "stream",
          "name": "stdout",
          "text": [
            "input age=18\n",
            "qualified\n"
          ]
        }
      ]
    },
    {
      "cell_type": "markdown",
      "metadata": {
        "id": "wvN_fBay8U02"
      },
      "source": [
        "Example 2"
      ]
    },
    {
      "cell_type": "code",
      "metadata": {
        "colab": {
          "base_uri": "https://localhost:8080/"
        },
        "id": "dLgKpyPP8azL",
        "outputId": "36f3f183-a895-4c80-f465-4aed42f4ba12"
      },
      "source": [
        "num=int(input(\"input number=\"))\n",
        "if num>0:\n",
        "  print(\"positive integer\")\n",
        "elif num<0:\n",
        "  print(\"negative integer\")\n",
        "else:\n",
        "  print(\"zero\")"
      ],
      "execution_count": 34,
      "outputs": [
        {
          "output_type": "stream",
          "name": "stdout",
          "text": [
            "input number=-5\n",
            "negative integer\n"
          ]
        }
      ]
    },
    {
      "cell_type": "markdown",
      "metadata": {
        "id": "-hoSBMxT8cWY"
      },
      "source": [
        "Example 3"
      ]
    },
    {
      "cell_type": "code",
      "metadata": {
        "colab": {
          "base_uri": "https://localhost:8080/"
        },
        "id": "AP9m9taT8W5u",
        "outputId": "cbbe5cfa-f939-4272-f9f4-c4300e69da4e"
      },
      "source": [
        "grade=float(input(\"input grade=\"))\n",
        "if grade>=75:\n",
        "  print(\"passed\")\n",
        "elif grade<75 and grade>74:\n",
        "  print(\"remedial\")\n",
        "else:\n",
        "  print(\"failed\")"
      ],
      "execution_count": 10,
      "outputs": [
        {
          "output_type": "stream",
          "name": "stdout",
          "text": [
            "input grade=73\n",
            "failed\n"
          ]
        }
      ]
    }
  ]
}